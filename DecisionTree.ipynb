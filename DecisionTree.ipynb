{
  "cells": [
    {
      "cell_type": "markdown",
      "metadata": {
        "id": "view-in-github",
        "colab_type": "text"
      },
      "source": [
        "<a href=\"https://colab.research.google.com/github/jason-0512/jason-0512-BMCS2203-ARTIFICIAL-INTELLIGENCE---Heart-Failure-Death-Prediction-Prototype/blob/main/DecisionTree.ipynb\" target=\"_parent\"><img src=\"https://colab.research.google.com/assets/colab-badge.svg\" alt=\"Open In Colab\"/></a>"
      ]
    },
    {
      "cell_type": "code",
      "execution_count": null,
      "id": "31f56556",
      "metadata": {
        "id": "31f56556"
      },
      "outputs": [],
      "source": [
        "%pip install pandas numpy scikit-learn matplotlib seaborn joblib"
      ]
    },
    {
      "cell_type": "markdown",
      "source": [
        "Import libraries"
      ],
      "metadata": {
        "id": "fhRQSWwuYPFK"
      },
      "id": "fhRQSWwuYPFK"
    },
    {
      "cell_type": "code",
      "source": [
        "import pandas as pd\n",
        "import numpy as np\n",
        "from sklearn.model_selection import train_test_split, StratifiedKFold, GridSearchCV, cross_val_score\n",
        "from sklearn.tree import DecisionTreeClassifier, plot_tree\n",
        "from sklearn.metrics import (accuracy_score, precision_score, recall_score, f1_score,\n",
        "                             classification_report, confusion_matrix, roc_auc_score, roc_curve)\n",
        "import matplotlib.pyplot as plt\n",
        "import seaborn as sns\n",
        "import joblib"
      ],
      "metadata": {
        "id": "ZgiatjvsYSZW"
      },
      "id": "ZgiatjvsYSZW",
      "execution_count": 4,
      "outputs": []
    },
    {
      "cell_type": "markdown",
      "source": [
        "Load dataset"
      ],
      "metadata": {
        "id": "Q-AuCdciYT4b"
      },
      "id": "Q-AuCdciYT4b"
    },
    {
      "cell_type": "code",
      "source": [
        "data = pd.read_csv('heart_failure_clinical_records.csv')\n",
        "print(\"Dataset Shape:\", data.shape)\n",
        "print(\"\\nMissing Values:\\n\", data.isnull().sum())\n",
        "print(\"\\nClass Balance:\\n\", data['DEATH_EVENT'].value_counts(normalize=True))\n",
        "print(\"\\nSummary Statistics:\\n\", data.describe())"
      ],
      "metadata": {
        "id": "6bhK4CXdYVXH"
      },
      "id": "6bhK4CXdYVXH",
      "execution_count": null,
      "outputs": []
    },
    {
      "cell_type": "markdown",
      "source": [
        "Step 2: Features and Target\n",
        "We separate the dataset into features (`X`) and target (`y`). The target variable is `DEATH_EVENT`."
      ],
      "metadata": {
        "id": "dqwnOVQbYtYb"
      },
      "id": "dqwnOVQbYtYb"
    },
    {
      "cell_type": "code",
      "source": [
        "X = data.drop('DEATH_EVENT', axis=1)\n",
        "y = data['DEATH_EVENT']"
      ],
      "metadata": {
        "id": "5rZC1_zRY-ft"
      },
      "id": "5rZC1_zRY-ft",
      "execution_count": null,
      "outputs": []
    },
    {
      "cell_type": "markdown",
      "source": [
        "Step 3: Nested Cross-Validation We perform nested cross-validation to tune hyperparameters using `GridSearchCV` on the inner fold and evaluate the model on the outer fold. We use `f1_macro` as the scoring metric."
      ],
      "metadata": {
        "id": "5ivKGMcEZEZ_"
      },
      "id": "5ivKGMcEZEZ_"
    },
    {
      "cell_type": "code",
      "source": [
        "outer_cv = StratifiedKFold(n_splits=10, shuffle=True, random_state=42)\n",
        "inner_cv = StratifiedKFold(n_splits=5, shuffle=True, random_state=42)\n",
        "param_grid = {'max_depth': [3,4,5], 'min_samples_leaf': [5,10,20]}\n",
        "\n",
        "outer_f1_scores = []\n",
        "outer_roc_auc_scores = []\n",
        "\n",
        "for train_idx, test_idx in outer_cv.split(X, y):\n",
        "    X_train, X_test = X.iloc[train_idx], X.iloc[test_idx]\n",
        "    y_train, y_test = y.iloc[train_idx], y.iloc[test_idx]\n",
        "\n",
        "    grid_search = GridSearchCV(\n",
        "        DecisionTreeClassifier(random_state=42, class_weight='balanced'),\n",
        "        param_grid=param_grid,\n",
        "        cv=inner_cv,\n",
        "        scoring='f1_macro'\n",
        "    )\n",
        "    grid_search.fit(X_train, y_train)\n",
        "    best_model = grid_search.best_estimator_\n",
        "\n",
        "    y_pred = best_model.predict(X_test)\n",
        "    y_pred_proba = best_model.predict_proba(X_test)[:, 1]\n",
        "\n",
        "    outer_f1_scores.append(f1_score(y_test, y_pred))\n",
        "    outer_roc_auc_scores.append(roc_auc_score(y_test, y_pred_proba))\n",
        "\n",
        "print(\"\\nNested CV F1-scores:\", outer_f1_scores)\n",
        "print(\"Mean Nested CV F1-score:\", np.mean(outer_f1_scores))\n",
        "print(\"Nested CV ROC-AUCs:\", outer_roc_auc_scores)\n",
        "print(\"Mean Nested CV ROC-AUC:\", np.mean(outer_roc_auc_scores))"
      ],
      "metadata": {
        "id": "q7ba9XFaZMvj"
      },
      "id": "q7ba9XFaZMvj",
      "execution_count": null,
      "outputs": []
    },
    {
      "cell_type": "markdown",
      "source": [
        "Step 4: Train-Test Split + train final model with best params"
      ],
      "metadata": {
        "id": "5ki2hsxSZgdQ"
      },
      "id": "5ki2hsxSZgdQ"
    },
    {
      "cell_type": "code",
      "source": [
        "X_train, X_test, y_train, y_test = train_test_split(\n",
        "    X, y, test_size=0.2, random_state=42, stratify=y\n",
        ")\n",
        "\n",
        "final_model = DecisionTreeClassifier(\n",
        "    random_state=42, class_weight='balanced',\n",
        "    max_depth=grid_search.best_params_['max_depth'],\n",
        "    min_samples_leaf=grid_search.best_params_['min_samples_leaf']\n",
        ")\n",
        "\n",
        "final_model.fit(X_train, y_train)"
      ],
      "metadata": {
        "id": "xQhpYt-iZh4P"
      },
      "id": "xQhpYt-iZh4P",
      "execution_count": null,
      "outputs": []
    },
    {
      "cell_type": "markdown",
      "source": [
        "Step 5: Predictions and metrics"
      ],
      "metadata": {
        "id": "yQqPCFGJZnMB"
      },
      "id": "yQqPCFGJZnMB"
    },
    {
      "cell_type": "code",
      "source": [
        "y_pred = final_model.predict(X_test)\n",
        "y_pred_proba = final_model.predict_proba(X_test)[:, 1]\n",
        "\n",
        "print(\"\\nClassification Report:\\n\", classification_report(y_test, y_pred))\n",
        "print(f\"Accuracy: {accuracy_score(y_test, y_pred):.3f}\")\n",
        "print(f\"Precision: {precision_score(y_test, y_pred):.3f}\")\n",
        "print(f\"Recall: {recall_score(y_test, y_pred):.3f}\")\n",
        "print(f\"F1-Score: {f1_score(y_test, y_pred):.3f}\")\n",
        "print(f\"ROC-AUC: {roc_auc_score(y_test, y_pred_proba):.3f}\")\n",
        "\n",
        "cv_scores = cross_val_score(final_model, X_train, y_train, cv=5, scoring='f1_macro')\n",
        "print(\"\\n5-Fold CV F1-Scores:\", cv_scores)\n",
        "print(\"Mean CV F1-Score:\", cv_scores.mean())"
      ],
      "metadata": {
        "id": "PkmN6dqPZqjW"
      },
      "id": "PkmN6dqPZqjW",
      "execution_count": null,
      "outputs": []
    },
    {
      "cell_type": "markdown",
      "source": [
        "Step 6: Feature importance"
      ],
      "metadata": {
        "id": "qjhGoQqVaP0d"
      },
      "id": "qjhGoQqVaP0d"
    },
    {
      "cell_type": "code",
      "source": [
        "feat_df = pd.DataFrame({\n",
        "    'Feature': X.columns,\n",
        "    'Importance': final_model.feature_importances_\n",
        "}).sort_values(by='Importance', ascending=False)\n",
        "print(\"\\nFeature Importance:\\n\", feat_df)"
      ],
      "metadata": {
        "id": "oy2EdpN8aSVZ"
      },
      "id": "oy2EdpN8aSVZ",
      "execution_count": null,
      "outputs": []
    },
    {
      "cell_type": "markdown",
      "source": [
        "ROC curve + decision tree + confusion matrix"
      ],
      "metadata": {
        "id": "909geQbmaX3F"
      },
      "id": "909geQbmaX3F"
    },
    {
      "cell_type": "code",
      "source": [
        "\n",
        "cm = confusion_matrix(y_test, y_pred)\n",
        "sns.heatmap(cm, annot=True, fmt='d', cmap='Blues', xticklabels=['Survived','Died'], yticklabels=['Survived','Died'])\n",
        "plt.title('Confusion Matrix')\n",
        "plt.show()\n",
        "\n",
        "\n",
        "fpr, tpr, _ = roc_curve(y_test, y_pred_proba)\n",
        "plt.plot(fpr, tpr, label=f'DT ROC curve (AUC = {roc_auc_score(y_test, y_pred_proba):.2f})')\n",
        "plt.plot([0,1],[0,1],'k--')\n",
        "plt.xlabel('False Positive Rate')\n",
        "plt.ylabel('True Positive Rate')\n",
        "plt.title('Decision Tree ROC Curve')\n",
        "plt.legend()\n",
        "plt.show()\n",
        "\n",
        "plt.figure(figsize=(20,10))\n",
        "plot_tree(final_model, feature_names=X.columns, class_names=['Survived','Died'], filled=True, fontsize=8)\n",
        "plt.title(\"Decision Tree Visualization\")\n",
        "plt.show()"
      ],
      "metadata": {
        "id": "hzOnwPEVaVGJ"
      },
      "id": "hzOnwPEVaVGJ",
      "execution_count": null,
      "outputs": []
    },
    {
      "cell_type": "markdown",
      "source": [
        "export pkl"
      ],
      "metadata": {
        "id": "oVrRXMtoafmi"
      },
      "id": "oVrRXMtoafmi"
    },
    {
      "cell_type": "code",
      "execution_count": null,
      "id": "500b10b5",
      "metadata": {
        "id": "500b10b5"
      },
      "outputs": [],
      "source": [
        "joblib.dump(final_model, 'decision_tree_model.pkl')"
      ]
    }
  ],
  "metadata": {
    "kernelspec": {
      "display_name": "Python 3",
      "language": "python",
      "name": "python3"
    },
    "language_info": {
      "codemirror_mode": {
        "name": "ipython",
        "version": 3
      },
      "file_extension": ".py",
      "mimetype": "text/x-python",
      "name": "python",
      "nbconvert_exporter": "python",
      "pygments_lexer": "ipython3",
      "version": "3.13.7"
    },
    "colab": {
      "provenance": [],
      "include_colab_link": true
    }
  },
  "nbformat": 4,
  "nbformat_minor": 5
}