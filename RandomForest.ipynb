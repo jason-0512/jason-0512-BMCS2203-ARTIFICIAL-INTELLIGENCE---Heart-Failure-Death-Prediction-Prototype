{
  "cells": [
    {
      "cell_type": "markdown",
      "metadata": {
        "id": "view-in-github",
        "colab_type": "text"
      },
      "source": [
        "<a href=\"https://colab.research.google.com/github/jason-0512/jason-0512-BMCS2203-ARTIFICIAL-INTELLIGENCE---Heart-Failure-Death-Prediction-Prototype/blob/main/RandomForest.ipynb\" target=\"_parent\"><img src=\"https://colab.research.google.com/assets/colab-badge.svg\" alt=\"Open In Colab\"/></a>"
      ]
    },
    {
      "cell_type": "code",
      "execution_count": null,
      "id": "60ad6cc7",
      "metadata": {
        "id": "60ad6cc7"
      },
      "outputs": [],
      "source": [
        "%pip install pandas numpy scikit-learn matplotlib seaborn joblib"
      ]
    },
    {
      "cell_type": "markdown",
      "source": [
        "Import libraries"
      ],
      "metadata": {
        "id": "mwFlFk0LbtyJ"
      },
      "id": "mwFlFk0LbtyJ"
    },
    {
      "cell_type": "code",
      "source": [
        "import pandas as pd\n",
        "import numpy as np\n",
        "from sklearn.model_selection import StratifiedKFold\n",
        "from sklearn.ensemble import RandomForestClassifier\n",
        "from sklearn.metrics import accuracy_score, classification_report, confusion_matrix, roc_auc_score, roc_curve, precision_score, recall_score, f1_score\n",
        "import seaborn as sns\n",
        "import matplotlib.pyplot as plt\n",
        "import joblib"
      ],
      "metadata": {
        "id": "E3Ock7aebvwB"
      },
      "id": "E3Ock7aebvwB",
      "execution_count": 3,
      "outputs": []
    },
    {
      "cell_type": "markdown",
      "source": [
        "Step 1: Load dataset"
      ],
      "metadata": {
        "id": "QnOnrTA1bxPc"
      },
      "id": "QnOnrTA1bxPc"
    },
    {
      "cell_type": "code",
      "source": [
        "data = pd.read_csv('heart_failure_clinical_records.csv')\n",
        "print(\"Dataset Shape:\", data.shape)\n",
        "print(\"\\nMissing Values:\\n\", data.isnull().sum())\n",
        "print(\"\\nClass Balance:\\n\", data['DEATH_EVENT'].value_counts(normalize=True))\n",
        "print(\"\\nSummary Statistics:\\n\", data.describe())"
      ],
      "metadata": {
        "id": "HTxgYZA7bzcm"
      },
      "id": "HTxgYZA7bzcm",
      "execution_count": null,
      "outputs": []
    },
    {
      "cell_type": "markdown",
      "source": [
        "Step 2: Data Preprocessing\n",
        "Handle missing values and define features and target variables. Exclude the 'time' column from features."
      ],
      "metadata": {
        "id": "exyvh4-LcA-Q"
      },
      "id": "exyvh4-LcA-Q"
    },
    {
      "cell_type": "code",
      "source": [
        "if data.isnull().sum().sum() > 0:\n",
        "    data.fillna(data.median(), inplace=True)\n",
        "\n",
        "X = data.drop(['DEATH_EVENT', 'time'], axis=1)\n",
        "y = data['DEATH_EVENT']\n",
        "feature_names = X.columns"
      ],
      "metadata": {
        "id": "GRf5kBIEcDcv"
      },
      "id": "GRf5kBIEcDcv",
      "execution_count": 5,
      "outputs": []
    },
    {
      "cell_type": "markdown",
      "source": [
        "Step 3: Stratified 10-Fold Cross-Validation\n",
        "Train a Random Forest model in each fold, compute metrics, feature importance, and ROC curve data."
      ],
      "metadata": {
        "id": "Rf6JAhkGcLhZ"
      },
      "id": "Rf6JAhkGcLhZ"
    },
    {
      "cell_type": "code",
      "source": [
        "skf = StratifiedKFold(n_splits=10, shuffle=True, random_state=42)\n",
        "\n",
        "accuracies = []\n",
        "conf_matrices = []\n",
        "class_reports = []\n",
        "feature_importances = []\n",
        "roc_aucs = []\n",
        "fpr_list = []\n",
        "tpr_list = []\n",
        "\n",
        "for train_index, test_index in skf.split(X, y):\n",
        "    X_train, X_test = X.iloc[train_index], X.iloc[test_index]\n",
        "    y_train, y_test = y.iloc[train_index], y.iloc[test_index]\n",
        "\n",
        "    rf_model = RandomForestClassifier(n_estimators=100, random_state=42, class_weight='balanced', max_depth=5)\n",
        "    rf_model.fit(X_train, y_train)\n",
        "\n",
        "    y_pred = rf_model.predict(X_test)\n",
        "    y_pred_proba = rf_model.predict_proba(X_test)[:, 1]\n",
        "\n",
        "    accuracies.append(accuracy_score(y_test, y_pred))\n",
        "    conf_matrices.append(confusion_matrix(y_test, y_pred))\n",
        "    class_reports.append(classification_report(y_test, y_pred, output_dict=True, target_names=['Survived', 'Died']))\n",
        "    feature_importances.append(rf_model.feature_importances_)\n",
        "    roc_aucs.append(roc_auc_score(y_test, y_pred_proba))\n",
        "\n",
        "    fpr, tpr, _ = roc_curve(y_test, y_pred_proba)\n",
        "    fpr_list.append(fpr)\n",
        "    tpr_list.append(tpr)\n"
      ],
      "metadata": {
        "id": "oU94a95rcNHl"
      },
      "id": "oU94a95rcNHl",
      "execution_count": 6,
      "outputs": []
    },
    {
      "cell_type": "markdown",
      "source": [
        "Step 4: Train Final Random Forest on Full Dataset\n",
        "Train a Random Forest with the chosen hyperparameters on the entire dataset for final evaluation."
      ],
      "metadata": {
        "id": "gQltq4auce4Q"
      },
      "id": "gQltq4auce4Q"
    },
    {
      "cell_type": "code",
      "source": [
        "final_model = RandomForestClassifier(\n",
        "    n_estimators=100,\n",
        "    random_state=42,\n",
        "    class_weight='balanced',\n",
        "    max_depth=5\n",
        ")\n",
        "final_model.fit(X, y)"
      ],
      "metadata": {
        "id": "3W4RaAcAcidQ"
      },
      "id": "3W4RaAcAcidQ",
      "execution_count": null,
      "outputs": []
    },
    {
      "cell_type": "markdown",
      "source": [
        "step 5: Compute Average Metrics Across Folds\n",
        "Compute average accuracy, ROC-AUC, classification report, and confusion matrix from cross-validation."
      ],
      "metadata": {
        "id": "tM34kQNpcmz1"
      },
      "id": "tM34kQNpcmz1"
    },
    {
      "cell_type": "code",
      "source": [
        "average_accuracy = np.mean(accuracies)\n",
        "std_accuracy = np.std(accuracies)\n",
        "average_roc_auc = np.mean(roc_aucs)\n",
        "std_roc_auc = np.std(roc_aucs)\n",
        "\n",
        "print(f\"Average Accuracy: {average_accuracy:.2f} (±{std_accuracy:.2f})\")\n",
        "print(f\"Average ROC-AUC: {average_roc_auc:.2f} (±{std_roc_auc:.2f})\")\n",
        "\n",
        "avg_report = {'Survived': {'precision': 0, 'recall': 0, 'f1-score': 0, 'support': 0},\n",
        "              'Died': {'precision': 0, 'recall': 0, 'f1-score': 0, 'support': 0}}\n",
        "for report in class_reports:\n",
        "    for cls in ['Survived', 'Died']:\n",
        "        for metric in ['precision', 'recall', 'f1-score', 'support']:\n",
        "            avg_report[cls][metric] += report[cls][metric] / len(class_reports)\n",
        "\n",
        "print(\"\\nAverage Classification Report:\")\n",
        "print(\"              precision    recall  f1-score   support\")\n",
        "for cls in ['Survived', 'Died']:\n",
        "    print(f\"{cls:<12} {avg_report[cls]['precision']:.2f}      {avg_report[cls]['recall']:.2f}      {avg_report[cls]['f1-score']:.2f}      {avg_report[cls]['support']:.1f}\")\n",
        "\n",
        "average_cm = np.mean(conf_matrices, axis=0)\n",
        "print(\"\\nAverage Confusion Matrix:\")\n",
        "print(np.round(average_cm).astype(int))\n",
        "\n",
        "average_feature_importance = pd.DataFrame({\n",
        "    'Feature': feature_names,\n",
        "    'Importance': np.mean(feature_importances, axis=0)\n",
        "}).sort_values(by='Importance', ascending=False)\n",
        "print(\"\\nAverage Feature Importance:\")\n",
        "print(average_feature_importance.round(6))"
      ],
      "metadata": {
        "id": "6tYeGUImcpvC"
      },
      "id": "6tYeGUImcpvC",
      "execution_count": null,
      "outputs": []
    },
    {
      "cell_type": "markdown",
      "source": [
        "Step 6: Final Evaluation on Full Dataset\n",
        "Evaluate the trained Random Forest on the full dataset and display metrics."
      ],
      "metadata": {
        "id": "175AAm03cvCA"
      },
      "id": "175AAm03cvCA"
    },
    {
      "cell_type": "code",
      "source": [
        "y_pred = final_model.predict(X)\n",
        "y_pred_proba = final_model.predict_proba(X)[:, 1]\n",
        "\n",
        "accuracy = accuracy_score(y, y_pred)\n",
        "precision = precision_score(y, y_pred)\n",
        "recall = recall_score(y, y_pred)\n",
        "f1 = f1_score(y, y_pred)\n",
        "roc_auc = roc_auc_score(y, y_pred_proba)\n",
        "\n",
        "print(\"\\nFinal Evaluation on Full Dataset:\")\n",
        "print(f\"Accuracy: {accuracy:.3f}\")\n",
        "print(f\"Precision: {precision:.3f}\")\n",
        "print(f\"Recall: {recall:.3f}\")\n",
        "print(f\"F1-Score: {f1:.3f}\")\n",
        "print(f\"ROC-AUC: {roc_auc:.3f}\")"
      ],
      "metadata": {
        "id": "2OhtyxxMc2Dj"
      },
      "id": "2OhtyxxMc2Dj",
      "execution_count": null,
      "outputs": []
    },
    {
      "cell_type": "markdown",
      "source": [
        "Step 7: visualization"
      ],
      "metadata": {
        "id": "zd4QOYJLc6Xg"
      },
      "id": "zd4QOYJLc6Xg"
    },
    {
      "cell_type": "code",
      "source": [
        "plt.figure(figsize=(6, 4))\n",
        "mean_fpr = np.linspace(0, 1, 100)\n",
        "mean_tpr = np.zeros_like(mean_fpr)\n",
        "for fpr, tpr in zip(fpr_list, tpr_list):\n",
        "    mean_tpr += np.interp(mean_fpr, fpr, tpr)\n",
        "mean_tpr /= len(fpr_list)\n",
        "plt.plot(mean_fpr, mean_tpr, label=f'Mean ROC (AUC = {average_roc_auc:.2f})')\n",
        "plt.plot([0, 1], [0, 1], 'k--')\n",
        "plt.xlabel('False Positive Rate')\n",
        "plt.ylabel('True Positive Rate')\n",
        "plt.title('Average ROC Curve')\n",
        "plt.legend(loc='lower right')\n",
        "plt.show()\n",
        "\n",
        "plt.figure(figsize=(6, 4))\n",
        "sns.heatmap(average_cm, annot=True, fmt='.2f', cmap='Blues', xticklabels=['Survived', 'Died'], yticklabels=['Survived', 'Died'])\n",
        "plt.title('Average Confusion Matrix')\n",
        "plt.xlabel('Predicted')\n",
        "plt.ylabel('Actual')\n",
        "plt.show()\n",
        "\n",
        "plt.figure(figsize=(10, 6))\n",
        "sns.barplot(x='Importance', y='Feature', data=average_feature_importance)\n",
        "plt.title('Average Feature Importance')\n",
        "plt.show()"
      ],
      "metadata": {
        "id": "XQfd4_Mtc81V"
      },
      "id": "XQfd4_Mtc81V",
      "execution_count": null,
      "outputs": []
    },
    {
      "cell_type": "code",
      "execution_count": 11,
      "id": "e4f071db",
      "metadata": {
        "id": "e4f071db",
        "colab": {
          "base_uri": "https://localhost:8080/"
        },
        "outputId": "b556bdba-5f9d-4589-c829-f25572a5f126"
      },
      "outputs": [
        {
          "output_type": "execute_result",
          "data": {
            "text/plain": [
              "['random_forest_model.pkl']"
            ]
          },
          "metadata": {},
          "execution_count": 11
        }
      ],
      "source": [
        "joblib.dump(final_model, 'random_forest_model.pkl')"
      ]
    }
  ],
  "metadata": {
    "kernelspec": {
      "display_name": "Python 3",
      "language": "python",
      "name": "python3"
    },
    "language_info": {
      "codemirror_mode": {
        "name": "ipython",
        "version": 3
      },
      "file_extension": ".py",
      "mimetype": "text/x-python",
      "name": "python",
      "nbconvert_exporter": "python",
      "pygments_lexer": "ipython3",
      "version": "3.13.7"
    },
    "colab": {
      "provenance": [],
      "include_colab_link": true
    }
  },
  "nbformat": 4,
  "nbformat_minor": 5
}